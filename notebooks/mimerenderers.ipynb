{
 "cells": [
  {
   "cell_type": "code",
   "execution_count": null,
   "id": "ff203dda-d0f3-48a8-95d5-587fbe1acae8",
   "metadata": {},
   "outputs": [],
   "source": [
    "from IPython.display import display\n",
    "from IPython.display import (\n",
    "    HTML, Image, Latex, Math, Markdown, SVG\n",
    ")"
   ]
  },
  {
   "cell_type": "markdown",
   "id": "83934e25-4c2a-4521-b128-f4da77793fe8",
   "metadata": {},
   "source": [
    "## Text"
   ]
  },
  {
   "cell_type": "code",
   "execution_count": null,
   "id": "4c0ef0c2-a7c2-4aee-b047-d009e9794ef9",
   "metadata": {},
   "outputs": [],
   "source": [
    "text = \"\"\"Lorem ipsum dolor sit amet, consectetur adipiscing elit. Nullam urna\n",
    "libero, dictum a egestas non, placerat vel neque. In imperdiet iaculis fermentum. \n",
    "Vestibulum ante ipsum primis in faucibus orci luctus et ultrices posuere cubilia \n",
    "Curae; Cras augue tortor, tristique vitae varius nec, dictum eu lectus. Pellentesque \n",
    "id eleifend eros. In non odio in lorem iaculis sollicitudin. In faucibus ante ut \n",
    "arcu fringilla interdum. Maecenas elit nulla, imperdiet nec blandit et, consequat \n",
    "ut elit.\"\"\"\n",
    "print(text)"
   ]
  },
  {
   "cell_type": "code",
   "execution_count": null,
   "id": "9f841613-56a3-4b9f-a342-929f77534159",
   "metadata": {},
   "outputs": [],
   "source": [
    "import sys; print('this is stderr', file=sys.stderr)"
   ]
  },
  {
   "cell_type": "markdown",
   "id": "ff9bcbcb-8b11-4215-a5bd-a82265ab63f2",
   "metadata": {},
   "source": [
    "## HTML"
   ]
  },
  {
   "cell_type": "code",
   "execution_count": null,
   "id": "317c2b55-881f-436c-8cc5-1753e8ebb4b6",
   "metadata": {},
   "outputs": [],
   "source": [
    "div = HTML('<div style=\"width:100px;height:100px;background:grey;\" />')\n",
    "div"
   ]
  },
  {
   "cell_type": "markdown",
   "id": "e410f2d6-d6be-4dc5-b3fa-80ee61ac30ec",
   "metadata": {},
   "source": [
    "## Markdown"
   ]
  },
  {
   "cell_type": "code",
   "execution_count": null,
   "id": "8088840b-ebec-4964-b823-4864330aa021",
   "metadata": {},
   "outputs": [],
   "source": [
    "md = Markdown(\"\"\"\n",
    "### Subtitle\n",
    "\n",
    "This is some *markdown* text with math $F=ma$.\n",
    "\n",
    "\"\"\")\n",
    "md"
   ]
  },
  {
   "cell_type": "code",
   "execution_count": null,
   "id": "de749ce9-0531-4151-b2c5-6100706ddd59",
   "metadata": {},
   "outputs": [],
   "source": [
    "display(md)"
   ]
  },
  {
   "cell_type": "markdown",
   "id": "a4d62188-c67b-4058-a679-a08f6ad0ad87",
   "metadata": {},
   "source": [
    "## LaTeX"
   ]
  },
  {
   "cell_type": "markdown",
   "id": "09eb8496-cea0-496a-97de-f887ce924d3d",
   "metadata": {},
   "source": [
    "Examples LaTeX in a markdown cell:\n",
    "\n",
    "\n",
    "\\begin{align}\n",
    "\\nabla \\times \\vec{\\mathbf{B}} -\\, \\frac1c\\, \\frac{\\partial\\vec{\\mathbf{E}}}{\\partial t} & = \\frac{4\\pi}{c}\\vec{\\mathbf{j}} \\\\   \\nabla \\cdot \\vec{\\mathbf{E}} & = 4 \\pi \\rho \\\\\n",
    "\\nabla \\times \\vec{\\mathbf{E}}\\, +\\, \\frac1c\\, \\frac{\\partial\\vec{\\mathbf{B}}}{\\partial t} & = \\vec{\\mathbf{0}} \\\\\n",
    "\\nabla \\cdot \\vec{\\mathbf{B}} & = 0\n",
    "\\end{align}"
   ]
  },
  {
   "cell_type": "code",
   "execution_count": null,
   "id": "e59f7a97-9ad5-424f-ba99-2f69deba04a1",
   "metadata": {},
   "outputs": [],
   "source": [
    "math = Latex(\"$F=ma$\")\n",
    "math"
   ]
  },
  {
   "cell_type": "code",
   "execution_count": null,
   "id": "0f14b258-22e0-465d-9b86-d134e7d4a07c",
   "metadata": {},
   "outputs": [],
   "source": [
    "maxwells = Latex(r\"\"\"\n",
    "\\begin{align}\n",
    "\\nabla \\times \\vec{\\mathbf{B}} -\\, \\frac1c\\, \\frac{\\partial\\vec{\\mathbf{E}}}{\\partial t} & = \\frac{4\\pi}{c}\\vec{\\mathbf{j}} \\\\   \\nabla \\cdot \\vec{\\mathbf{E}} & = 4 \\pi \\rho \\\\\n",
    "\\nabla \\times \\vec{\\mathbf{E}}\\, +\\, \\frac1c\\, \\frac{\\partial\\vec{\\mathbf{B}}}{\\partial t} & = \\vec{\\mathbf{0}} \\\\\n",
    "\\nabla \\cdot \\vec{\\mathbf{B}} & = 0\n",
    "\\end{align}\n",
    "\"\"\")\n",
    "maxwells"
   ]
  },
  {
   "cell_type": "markdown",
   "id": "cefadf9b-3bab-451e-963d-38cee15c05ea",
   "metadata": {},
   "source": [
    "## PDF"
   ]
  },
  {
   "cell_type": "code",
   "execution_count": null,
   "id": "0654a20f-1c14-47fd-a8b2-4de3fcbe6379",
   "metadata": {},
   "outputs": [],
   "source": [
    "%matplotlib inline\n",
    "import matplotlib.pyplot as plt\n",
    "import numpy as np\n",
    "from IPython.display import set_matplotlib_formats\n",
    "set_matplotlib_formats('pdf')"
   ]
  },
  {
   "cell_type": "code",
   "execution_count": null,
   "id": "e472026e-1019-4ef1-aae7-190dfa27c6a6",
   "metadata": {},
   "outputs": [],
   "source": [
    "plt.scatter(np.random.rand(20), np.random.rand(20), c=np.random.rand(20))"
   ]
  },
  {
   "cell_type": "markdown",
   "id": "52d8c23c-85e9-4a58-b2ab-a1686f5efaf3",
   "metadata": {},
   "source": [
    "## Image"
   ]
  },
  {
   "cell_type": "code",
   "execution_count": null,
   "id": "e6b7d130-7033-4783-bec1-031beabe66ef",
   "metadata": {},
   "outputs": [],
   "source": [
    "img = Image(\"https://apod.nasa.gov/apod/image/1707/GreatWallMilkyWay_Yu_1686.jpg\")\n",
    "img"
   ]
  },
  {
   "cell_type": "markdown",
   "id": "f0063685-9296-4149-abfb-5d0e15cc0b3c",
   "metadata": {},
   "source": [
    "## SVG"
   ]
  },
  {
   "cell_type": "code",
   "execution_count": null,
   "id": "959bbce1-1bbb-45a4-8373-d3994bab420d",
   "metadata": {},
   "outputs": [],
   "source": [
    "svg_source = \"\"\"\n",
    "<svg width=\"400\" height=\"110\">\n",
    "  <rect width=\"300\" height=\"100\" style=\"fill:#E0E0E0;\" /> \n",
    "</svg>\n",
    "\"\"\"\n",
    "svg = SVG(svg_source)\n",
    "svg"
   ]
  },
  {
   "cell_type": "markdown",
   "id": "41009292-8e51-4fde-90d2-804a52aa6d7f",
   "metadata": {},
   "source": [
    "## HTML Tables"
   ]
  },
  {
   "cell_type": "code",
   "execution_count": null,
   "id": "dbc0850d-bce6-4b6d-901e-c6ea1b857898",
   "metadata": {},
   "outputs": [],
   "source": [
    "from vega_datasets import data"
   ]
  },
  {
   "cell_type": "code",
   "execution_count": null,
   "id": "384e0e32-001d-4e40-bda7-4c76578fe123",
   "metadata": {},
   "outputs": [],
   "source": [
    "df = data.cars()"
   ]
  },
  {
   "cell_type": "code",
   "execution_count": null,
   "id": "702d284d-fefb-4b68-a327-ab311179c991",
   "metadata": {},
   "outputs": [],
   "source": [
    "df.head()"
   ]
  },
  {
   "cell_type": "markdown",
   "id": "5355a073-8ab7-46f9-87c8-04f2a2c4af7c",
   "metadata": {},
   "source": [
    "## Vega"
   ]
  },
  {
   "cell_type": "code",
   "execution_count": null,
   "id": "ba337247-3bfa-4f70-b067-b25d4236660c",
   "metadata": {
    "tags": []
   },
   "outputs": [],
   "source": [
    "from IPython.display import display\n",
    "import pandas as pd\n",
    "\n",
    "def Vega(spec):\n",
    "    bundle = {}\n",
    "    bundle['application/vnd.vega.v5+json'] = spec\n",
    "    display(bundle, raw=True)\n",
    "\n",
    "def VegaLite(spec):\n",
    "    bundle = {}\n",
    "    bundle['application/vnd.vegalite.v4+json'] = spec\n",
    "    display(bundle, raw=True)\n",
    "\n",
    "Vega({\n",
    "  \"$schema\": \"https://vega.github.io/schema/vega/v5.0.json\",\n",
    "  \"width\": 400,\n",
    "  \"height\": 200,\n",
    "  \"padding\": 5,\n",
    "\n",
    "  \"data\": [\n",
    "    {\n",
    "      \"name\": \"table\",\n",
    "      \"values\": [\n",
    "        {\"category\": \"A\", \"amount\": 28},\n",
    "        {\"category\": \"B\", \"amount\": 55},\n",
    "        {\"category\": \"C\", \"amount\": 43},\n",
    "        {\"category\": \"D\", \"amount\": 91},\n",
    "        {\"category\": \"E\", \"amount\": 81},\n",
    "        {\"category\": \"F\", \"amount\": 53},\n",
    "        {\"category\": \"G\", \"amount\": 19},\n",
    "        {\"category\": \"H\", \"amount\": 87}\n",
    "      ]\n",
    "    }\n",
    "  ],\n",
    "\n",
    "  \"signals\": [\n",
    "    {\n",
    "      \"name\": \"tooltip\",\n",
    "      \"value\": {},\n",
    "      \"on\": [\n",
    "        {\"events\": \"rect:mouseover\", \"update\": \"datum\"},\n",
    "        {\"events\": \"rect:mouseout\",  \"update\": \"{}\"}\n",
    "      ]\n",
    "    }\n",
    "  ],\n",
    "\n",
    "  \"scales\": [\n",
    "    {\n",
    "      \"name\": \"xscale\",\n",
    "      \"type\": \"band\",\n",
    "      \"domain\": {\"data\": \"table\", \"field\": \"category\"},\n",
    "      \"range\": \"width\",\n",
    "      \"padding\": 0.05,\n",
    "      \"round\": True\n",
    "    },\n",
    "    {\n",
    "      \"name\": \"yscale\",\n",
    "      \"domain\": {\"data\": \"table\", \"field\": \"amount\"},\n",
    "      \"nice\": True,\n",
    "      \"range\": \"height\"\n",
    "    }\n",
    "  ],\n",
    "\n",
    "  \"axes\": [\n",
    "    { \"orient\": \"bottom\", \"scale\": \"xscale\" },\n",
    "    { \"orient\": \"left\", \"scale\": \"yscale\" }\n",
    "  ],\n",
    "\n",
    "  \"marks\": [\n",
    "    {\n",
    "      \"type\": \"rect\",\n",
    "      \"from\": {\"data\":\"table\"},\n",
    "      \"encode\": {\n",
    "        \"enter\": {\n",
    "          \"x\": {\"scale\": \"xscale\", \"field\": \"category\"},\n",
    "          \"width\": {\"scale\": \"xscale\", \"band\": 1},\n",
    "          \"y\": {\"scale\": \"yscale\", \"field\": \"amount\"},\n",
    "          \"y2\": {\"scale\": \"yscale\", \"value\": 0}\n",
    "        },\n",
    "        \"update\": {\n",
    "          \"fill\": {\"value\": \"steelblue\"}\n",
    "        },\n",
    "        \"hover\": {\n",
    "          \"fill\": {\"value\": \"red\"}\n",
    "        }\n",
    "      }\n",
    "    },\n",
    "    {\n",
    "      \"type\": \"text\",\n",
    "      \"encode\": {\n",
    "        \"enter\": {\n",
    "          \"align\": {\"value\": \"center\"},\n",
    "          \"baseline\": {\"value\": \"bottom\"},\n",
    "          \"fill\": {\"value\": \"#333\"}\n",
    "        },\n",
    "        \"update\": {\n",
    "          \"x\": {\"scale\": \"xscale\", \"signal\": \"tooltip.category\", \"band\": 0.5},\n",
    "          \"y\": {\"scale\": \"yscale\", \"signal\": \"tooltip.amount\", \"offset\": -2},\n",
    "          \"text\": {\"signal\": \"tooltip.amount\"},\n",
    "          \"fillOpacity\": [\n",
    "            {\"test\": \"datum === tooltip\", \"value\": 0},\n",
    "            {\"value\": 1}\n",
    "          ]\n",
    "        }\n",
    "      }\n",
    "    }\n",
    "  ]\n",
    "})"
   ]
  },
  {
   "cell_type": "markdown",
   "id": "be6347a4-f418-49d2-a83e-ba0ef6366505",
   "metadata": {},
   "source": [
    "## GeoJSON"
   ]
  },
  {
   "cell_type": "code",
   "execution_count": null,
   "id": "67a6bc44-7588-4ae0-8eae-0428b6428f80",
   "metadata": {
    "tags": []
   },
   "outputs": [],
   "source": [
    "from IPython.display import GeoJSON, JSON\n",
    "\n",
    "data = {\n",
    "    \"type\": \"Feature\",\n",
    "    \"geometry\": {\n",
    "        \"type\": \"Point\",\n",
    "        \"coordinates\": [-118.4563712, 34.0163116]\n",
    "    }\n",
    "}\n",
    "\n",
    "GeoJSON(data)"
   ]
  },
  {
   "cell_type": "code",
   "execution_count": null,
   "id": "1a1a2fc6",
   "metadata": {},
   "outputs": [],
   "source": [
    "JSON(data)"
   ]
  },
  {
   "cell_type": "markdown",
   "id": "dc69fbe1",
   "metadata": {},
   "source": [
    "# Fasta"
   ]
  },
  {
   "cell_type": "code",
   "execution_count": null,
   "id": "85730759",
   "metadata": {},
   "outputs": [],
   "source": [
    "def Fasta(data=''):\n",
    "    bundle = {}\n",
    "    bundle['application/vnd.fasta.fasta'] = data\n",
    "    bundle['text/plain'] = data\n",
    "    display(bundle, raw=True)\n",
    "\n",
    "\n",
    "Fasta(\"\"\">SEQUENCE_1\n",
    "MTEITAAMVKELRESTGAGMMDCKNALSETNGDFDKAVQLLREKGLGKAAKKADRLAAEG\n",
    "LVSVKVSDDFTIAAMRPSYLSYEDLDMTFVENEYKALVAELEKENEERRRLKDPNKPEHK\n",
    "IPQFASRKQLSDAILKEAEEKIKEELKAQGKPEKIWDNIIPGKMNSFIADNSQLDSKLTL\n",
    "MGQFYVMDDKKTVEQVIAEKEKEFGGKIKIVEFICFEVGEGLEKKTEDFAAEVAAQL\n",
    ">SEQUENCE_2\n",
    "SATVSEINSETDFVAKNDQFIALTKDTTAHIQSNSLQSVEELHSSTINGVKFEEYLKSQI\n",
    "ATIGENLVVRRFATLKAGANGVVNGYIHTNGRVGVVIAAACDSAEVASKSRDLLRQICMH\"\"\")"
   ]
  }
 ],
 "metadata": {
  "kernelspec": {
   "display_name": "Python 3 (ipykernel)",
   "language": "python",
   "name": "python3"
  },
  "language_info": {
   "codemirror_mode": {
    "name": "ipython",
    "version": 3
   },
   "file_extension": ".py",
   "mimetype": "text/x-python",
   "name": "python",
   "nbconvert_exporter": "python",
   "pygments_lexer": "ipython3",
   "version": "3.10.6"
  }
 },
 "nbformat": 4,
 "nbformat_minor": 5
}
