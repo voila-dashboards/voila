{
 "cells": [
  {
   "cell_type": "code",
   "execution_count": null,
   "id": "d956aba2-61bc-43b8-810c-82aa31b2af44",
   "metadata": {},
   "outputs": [],
   "source": [
    "from IPython.display import Markdown, clear_output\n",
    "from ipywidgets import ToggleButton, Output\n",
    "import json\n",
    "import yaml\n",
    "\n",
    "STR_JSON=\"\"\"{\"hey\": {\n",
    "  \"1\": \"hi\",\n",
    "  \"2\": \"yo\",\n",
    "  \"a\": {\n",
    "    \"b\": [\n",
    "      {\"value\": \"3\"},\n",
    "      {\"value\": \"5\"},\n",
    "      {\"value\": \"5\"}\n",
    "    ]\n",
    "  }\n",
    "}}\"\"\"\n",
    "\n",
    "parsed = json.loads(STR_JSON)            \n",
    "s = yaml.dump(parsed, indent=2)\n",
    "display(Markdown(\"\\n```yaml\\n\" + s + \"\\n```\")) "
   ]
  }
 ],
 "metadata": {
  "kernelspec": {
   "display_name": "Python 3 (ipykernel)",
   "language": "python",
   "name": "python3"
  },
  "language_info": {
   "codemirror_mode": {
    "name": "ipython",
    "version": 3
   },
   "file_extension": ".py",
   "mimetype": "text/x-python",
   "name": "python",
   "nbconvert_exporter": "python",
   "pygments_lexer": "ipython3",
   "version": "3.11.4"
  }
 },
 "nbformat": 4,
 "nbformat_minor": 5
}
