{
 "cells": [
  {
   "cell_type": "code",
   "execution_count": null,
   "id": "7efe3e8f-4b8d-4fd3-99d1-b06d79b88ae2",
   "metadata": {},
   "outputs": [],
   "source": [
    "import time\n",
    "time.sleep(2)\n",
    "print('hello world')"
   ]
  },
  {
   "cell_type": "code",
   "execution_count": null,
   "id": "782377cd-2bc0-4d0d-8b63-74dcb7e9d645",
   "metadata": {},
   "outputs": [],
   "source": [
    "import os\n",
    "os.getenv('foo')"
   ]
  },
  {
   "cell_type": "code",
   "execution_count": null,
   "id": "0e689ec5-708c-4cac-98ba-02b00411e41d",
   "metadata": {},
   "outputs": [],
   "source": []
  }
 ],
 "metadata": {
  "kernelspec": {
   "display_name": "Python 3 (ipykernel)",
   "language": "python",
   "name": "python3"
  },
  "language_info": {
   "codemirror_mode": {
    "name": "ipython",
    "version": 3
   },
   "file_extension": ".py",
   "mimetype": "text/x-python",
   "name": "python",
   "nbconvert_exporter": "python",
   "pygments_lexer": "ipython3",
   "version": "3.9.6"
  }
 },
 "nbformat": 4,
 "nbformat_minor": 5
}
