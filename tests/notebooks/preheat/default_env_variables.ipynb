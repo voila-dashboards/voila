{
 "cells": [
  {
   "cell_type": "code",
   "execution_count": null,
   "id": "7efe3e8f-4b8d-4fd3-99d1-b06d79b88ae2",
   "metadata": {},
   "outputs": [],
   "source": [
    "import time\n",
    "time.sleep(2)\n",
    "print('hello world')"
   ]
  },
  {
   "cell_type": "code",
   "execution_count": null,
   "id": "782377cd-2bc0-4d0d-8b63-74dcb7e9d645",
   "metadata": {},
   "outputs": [],
   "source": [
    "import os\n",
    "os.getenv('FOO')"
   ]
  }
 ],
 "metadata": {
  "kernelspec": {
   "display_name": "Python 3.10.5 ('voila')",
   "language": "python",
   "name": "python3"
  }
 },
 "nbformat": 4,
 "nbformat_minor": 5
}
