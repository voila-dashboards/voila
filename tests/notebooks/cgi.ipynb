{
 "cells": [
  {
   "cell_type": "code",
   "execution_count": null,
   "metadata": {
    "ExecuteTime": {
     "end_time": "2020-08-18T11:55:18.544213Z",
     "start_time": "2020-08-18T11:55:18.541029Z"
    }
   },
   "outputs": [],
   "source": [
    "import os\n",
    "from urllib.parse import parse_qs"
   ]
  },
  {
   "cell_type": "code",
   "execution_count": null,
   "metadata": {
    "ExecuteTime": {
     "end_time": "2020-08-18T11:55:19.281230Z",
     "start_time": "2020-08-18T11:55:19.278088Z"
    }
   },
   "outputs": [],
   "source": [
    "query_string = os.environ.get('QUERY_STRING', '')\n",
    "parameters = parse_qs(query_string)\n",
    "print(\"query string parameters:\", parameters)"
   ]
  }
 ],
 "metadata": {
  "kernelspec": {
   "display_name": "Python 3",
   "language": "python",
   "name": "python3"
  },
  "language_info": {
   "codemirror_mode": {
    "name": "ipython",
    "version": 3
   },
   "file_extension": ".py",
   "mimetype": "text/x-python",
   "name": "python",
   "nbconvert_exporter": "python",
   "pygments_lexer": "ipython3",
   "version": "3.7.3"
  }
 },
 "nbformat": 4,
 "nbformat_minor": 4
}
